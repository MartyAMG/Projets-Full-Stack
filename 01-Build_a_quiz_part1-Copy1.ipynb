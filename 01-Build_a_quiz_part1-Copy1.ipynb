{
 "cells": [
  {
   "cell_type": "markdown",
   "metadata": {
    "colab_type": "text",
    "id": "FY347VxWs_bJ"
   },
   "source": [
    "# Build a quizz\n",
    "\n",
    "---\n",
    "\n",
    "\n"
   ]
  },
  {
   "cell_type": "markdown",
   "metadata": {
    "colab_type": "text",
    "id": "qJizpyqVwYnF"
   },
   "source": [
    "Let's tackle our first project together. Find a partner and start coding a quiz together! Your program should: \n",
    "\n",
    "1. Ask a question to a user via the console \n",
    "2. Verify whether the answer is correct or not \n",
    "3. If the answer is correct, you should print out: `Good job! This is the right answer`\n",
    "\n",
    "* Else, it should print out : `Too bad! that is not the correct answer`\n",
    "\n",
    "4. Ask three questions following this model.\n",
    "\n"
   ]
  },
  {
   "cell_type": "code",
   "execution_count": null,
   "metadata": {
    "colab": {
     "base_uri": "https://localhost:8080/",
     "height": 136
    },
    "colab_type": "code",
    "id": "EQxWuVl7yFoU",
    "outputId": "cf3ee10c-9d8f-4d96-82b0-f730321d4a2f"
   },
   "outputs": [],
   "source": [
    "\n"
   ]
  },
  {
   "cell_type": "markdown",
   "metadata": {
    "colab_type": "text",
    "id": "sLMbYgaOyxiX"
   },
   "source": [
    "There's a problem with our quizz : if the user has not given the right answer, the program goes to next question. We would rather like to ask again the same question if the answer was wrong.\n",
    "\n",
    "5. Using a `while` loop, make sure that the same question will be asked again when the answer was wrong\n",
    "\n",
    "6. Rewrite your code such that this behaviour is applied to all questions."
   ]
  },
  {
   "cell_type": "code",
   "execution_count": null,
   "metadata": {
    "colab": {
     "base_uri": "https://localhost:8080/",
     "height": 170
    },
    "colab_type": "code",
    "id": "csyxqJzBxPfN",
    "outputId": "0e671bec-2b70-424e-f110-d4792423dd7a"
   },
   "outputs": [],
   "source": [
    "###### nb de planete dans le systeme solaire? 8\n",
    "#Annee de découvertes de la lune ?1969\n",
    "#première femme à aller dans l'espace?Valentina Terechkova\n",
    "\n",
    "print(\"Bienvenue dans notre quizz !\")\n",
    "print(\"-----------------------\")\n",
    "question = 1\n",
    "print(\"Question : {}\".format(question))\n",
    "answer = int(input(\"Nombre de planetes dans le systeme solaire?\"))\n",
    "while answer != 8 :\n",
    "    answer = int(input(\"Mauvaise réponse, veuillez réessayer\"))\n",
    "print(\"Bravo ! Vous avez la bonne réponse\")\n",
    "\n",
    "\n",
    "question += 1\n",
    "print(\"Question : {}\".format(question))\n",
    "answer = input(\"Amunissage sur la lune\")\n",
    "while answer != \"1969\" :\n",
    "    answer = input(\"Mauvaise réponse, veuillez réessayer\")\n",
    "print(\"Bravo ! Vous avez la bonne réponse\")\n",
    "\n",
    "\n",
    "question += 1\n",
    "print(\"Question : {}\".format(question))\n",
    "answer = (input(\"Première femme à aller dans l'espace\")).lower()\n",
    "while answer != \"valentina terechkova\".lower().replace('  ',' ')\n",
    "    answer = (input(\"Mauvaise réponse, veuillez réessayer\")).lower()\n",
    "print(\"Bravo ! Vous avez la bonne réponse\")"
   ]
  },
  {
   "cell_type": "markdown",
   "metadata": {
    "colab_type": "text",
    "id": "nh4voWn8x3dM"
   },
   "source": [
    "Now, we would like to tackle a last problem : we want to allow only 3 wrong answers (among all questions).\n",
    "\n",
    "7. Improve your code : if the user makes 3 wrong answers, the program should stop and print (\"Too bad, you lost the game !\")\n"
   ]
  },
  {
   "cell_type": "code",
   "execution_count": null,
   "metadata": {
    "colab": {
     "base_uri": "https://localhost:8080/",
     "height": 170
    },
    "colab_type": "code",
    "id": "adKPQe1Hsi2g",
    "outputId": "45d36fc8-90ae-4f00-b73a-73b1e6e57e6e",
    "tags": []
   },
   "outputs": [],
   "source": [
    "print(\"Bienvenue dans notre quizz !\")\n",
    "print(\"-----------------------\")\n",
    "question = 1\n",
    "bad_answer = 0\n",
    "print(\"Question : {}\".format(question))\n",
    "answer = int(input(\"Nombre de planetes dans le systeme solaire?\"))\n",
    "while answer != 8 and bad_answer < 2 :\n",
    "    bad_answer += 1\n",
    "    answer = int(input(\"Mauvaise réponse, veuillez réessayer\"))\n",
    "if bad_answer < 2 :\n",
    "    print(\"Bravo ! Vous avez la bonne réponse\")\n",
    "else :\n",
    "    print(\"Vous avez perdu\")\n",
    "   break()\n"
   ]
  },
  {
   "cell_type": "code",
   "execution_count": null,
   "metadata": {
    "colab": {},
    "colab_type": "code",
    "id": "rA-XJKh-orgc"
   },
   "outputs": [],
   "source": []
  }
 ],
 "metadata": {
  "colab": {
   "name": "Construire un quiz - SOLUTIONS S1-1A.ipynb",
   "provenance": []
  },
  "kernelspec": {
   "display_name": "Python 3",
   "language": "python",
   "name": "python3"
  },
  "language_info": {
   "codemirror_mode": {
    "name": "ipython",
    "version": 3
   },
   "file_extension": ".py",
   "mimetype": "text/x-python",
   "name": "python",
   "nbconvert_exporter": "python",
   "pygments_lexer": "ipython3",
   "version": "3.8.6"
  }
 },
 "nbformat": 4,
 "nbformat_minor": 4
}
