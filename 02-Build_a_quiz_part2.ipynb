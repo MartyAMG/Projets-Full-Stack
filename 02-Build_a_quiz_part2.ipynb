{
 "cells": [
  {
   "cell_type": "markdown",
   "metadata": {},
   "source": [
    "# Build a quiz - Part 2"
   ]
  },
  {
   "cell_type": "markdown",
   "metadata": {},
   "source": [
    "Below is the code we wrote yesterday, that asks three questions to the user and allows up to 3 wrong answers :"
   ]
  },
  {
   "cell_type": "code",
   "execution_count": 1,
   "metadata": {
    "tags": []
   },
   "outputs": [
    {
     "name": "stdout",
     "output_type": "stream",
     "text": [
      "Welcome to our quizz!\n",
      "You have 3 lives.\n",
      "\n",
      "Question 1:\n",
      "Your answer : 3\n",
      "Sorry, you have 2 chances left\n",
      "Your answer : 2\n",
      "Question 2:\n",
      "Your answer : 1976\n",
      "Question 3:\n",
      "Your answer : steve jobs\n",
      "Sorry, you have 1 chances left\n",
      "Your answer : antoine krajnc\n",
      "Sorry, you have 0 chances left\n",
      "Oh no, you lost the quiz...\n"
     ]
    }
   ],
   "source": []
  },
  {
   "cell_type": "markdown",
   "metadata": {},
   "source": [
    "Let's refactor our quiz now that we know how to be dry.\n",
    "\n",
    "SPECs: \n",
    "\n",
    "* Your code should be DRY \n",
    "* You should use functions "
   ]
  },
  {
   "cell_type": "code",
   "execution_count": 3,
   "metadata": {
    "tags": []
   },
   "outputs": [
    {
     "name": "stdout",
     "output_type": "stream",
     "text": [
      "Congrats 2 is the right answer\n",
      "Sorry, you have 2 chances left\n",
      "Congrats 1976 is the right answer\n",
      "Congrats elon musk is the right answer\n",
      "Well done, you have win!\n"
     ]
    }
   ],
   "source": []
  },
  {
   "cell_type": "markdown",
   "metadata": {},
   "source": [
    "The solution above is considered more readable for the following reasons :\n",
    "* the instructions that were repeated before are now encapsulated in a function\n",
    "* the questions and answers are stored in one single list\n",
    "* we use a `for` loop to execute the function for each question "
   ]
  },
  {
   "cell_type": "code",
   "execution_count": null,
   "metadata": {},
   "outputs": [],
   "source": []
  },
  {
   "cell_type": "code",
   "execution_count": 42,
   "metadata": {
    "colab": {
     "base_uri": "https://localhost:8080/",
     "height": 104
    },
    "colab_type": "code",
    "id": "xFLBlgj1pndw",
    "outputId": "44506b62-75cb-416a-895e-848ef632a530"
   },
   "outputs": [],
   "source": [
    "#####################################################################\n",
    "#Author : Cheikh Silèye KEBE\n",
    "#Date : 19/03/2021\n",
    "#Description : Quizz with a max number of try\n",
    "\n",
    "#####################################################################\n",
    "\n",
    "class Quizz():\n",
    "    \n",
    "    def __init__(self, msg, essay, dico) :\n",
    "        self.welcome = msg\n",
    "        self.nb_try = essay\n",
    "        self.remaining_try = essay\n",
    "        self.dictionnary = dico\n",
    "    \n",
    "    #Description : Display quizz tittle and rules\n",
    "    def display_rules(self) :\n",
    "        print(self.welcome)\n",
    "        print(\"Vous avez droit à  {} essai maximum durant le quizz !\".format(self.nb_try))\n",
    "        print(\"=======================================\")\n",
    "    \n",
    "    #Description : Allows to ask a question. Stop when response is  \n",
    "    #  correct or reach the number of allowed try (nb_try)\n",
    "    #param question  : question to ask\n",
    "    #param response : response to the question\n",
    "    #param question_number : number of the question\n",
    "    def question_response(self, question, response,question_number):\n",
    "        #print(\"Ils vous restent {}  tentatives !\".format(self.remaining_try))\n",
    "        if self.remaining_try > 0 :\n",
    "            print(\"\\n\")\n",
    "            print(\"Question : {}\".format(question_number))\n",
    "            my_response = input(question).lower().replace('  ', ' ')\n",
    "            while my_response != response :\n",
    "                self.remaining_try -= 1\n",
    "                if self.remaining_try == 0 :\n",
    "                    break\n",
    "                my_response = input(\"Mauvaise réponse, veuillez réessayer, ils vous restent {} tentatives\".format(self.remaining_try))\n",
    "                my_response = my_response.lower().replace('  ', ' ')\n",
    "            if self.remaining_try > 0 :\n",
    "                print(\"Bravo, {} est la bonne réponse !\".format(my_response))\n",
    "            else :\n",
    "                print(\"Vous avez perdu !\")\n",
    "                \n",
    "    #Description : run the quizz by asking each question\n",
    "    # or stop when reach maximum of try\n",
    "    def run(self) : \n",
    "        i = 0 #another way to di it???\n",
    "        for question, response in self.dictionnary.items() :\n",
    "            i += 1\n",
    "            self.question_response(question, response, i)\n",
    "        if self.remaining_try > 0 :\n",
    "            print(\"Bravo, vous avez gagné le quizz !\")\n",
    "                \n",
    "            \n",
    "        \n",
    "        \n",
    "    \n",
    "        \n",
    "            "
   ]
  },
  {
   "cell_type": "code",
   "execution_count": 41,
   "metadata": {
    "colab": {
     "base_uri": "https://localhost:8080/",
     "height": 136
    },
    "colab_type": "code",
    "id": "EQxWuVl7yFoU",
    "outputId": "cf3ee10c-9d8f-4d96-82b0-f730321d4a2f"
   },
   "outputs": [
    {
     "name": "stdout",
     "output_type": "stream",
     "text": [
      "Bienvenue dans notre quizz sur la lune !\n",
      "Vous avez droit à  3 essai maximum durant le quizz !\n",
      "=======================================\n",
      "\n",
      "\n",
      "Question : 1\n"
     ]
    },
    {
     "name": "stdin",
     "output_type": "stream",
     "text": [
      "Nombre de planetes dans le système solaire? 8\n"
     ]
    },
    {
     "name": "stdout",
     "output_type": "stream",
     "text": [
      "Bravo, 8 est la bonne réponse !\n",
      "\n",
      "\n",
      "Question : 1\n"
     ]
    },
    {
     "name": "stdin",
     "output_type": "stream",
     "text": [
      "Amunissage sur la lune ? 3\n",
      "Mauvaise réponse, veuillez réessayer, ils vous restent 2 tentatives 8\n",
      "Mauvaise réponse, veuillez réessayer, ils vous restent 1 tentatives 1969\n"
     ]
    },
    {
     "name": "stdout",
     "output_type": "stream",
     "text": [
      "Bravo, 1969 est la bonne réponse !\n",
      "\n",
      "\n",
      "Question : 1\n"
     ]
    },
    {
     "name": "stdin",
     "output_type": "stream",
     "text": [
      "Première femme à aller dans l'espace? 5\n"
     ]
    },
    {
     "name": "stdout",
     "output_type": "stream",
     "text": [
      "Vous avez perdu !\n"
     ]
    }
   ],
   "source": [
    "#Put questions and responses in a dictionnary\n",
    "moon_dictionnary = {\n",
    "  \"Nombre de planetes dans le système solaire?\": \"8\",\n",
    "  \"Amunissage sur la lune ?\": \"1969\",\n",
    "  \"Première femme à aller dans l'espace?\": \"valentina terechkova\"\n",
    "}\n",
    "\n",
    "#Create an object of Quizz class with 3 number of try\n",
    "moon_quizz = Quizz(\"Bienvenue dans notre quizz sur la lune !\", 3, moon_dictionnary)\n",
    "\n",
    "#Display welcome message and quizz rules\n",
    "moon_quizz.display_rules()\n",
    "\n",
    "#run the quizz\n",
    "moon_quizz.run()\n"
   ]
  },
  {
   "cell_type": "code",
   "execution_count": 6,
   "metadata": {
    "colab": {
     "base_uri": "https://localhost:8080/",
     "height": 52
    },
    "colab_type": "code",
    "id": "4agC-7RLrQSp",
    "outputId": "c98a0475-d2f7-4e53-e3b3-e45b2c1874ff"
   },
   "outputs": [
    {
     "name": "stdout",
     "output_type": "stream",
     "text": [
      "Welcome to our quizz !\n",
      "You have 3 lives\n"
     ]
    }
   ],
   "source": []
  },
  {
   "cell_type": "code",
   "execution_count": 4,
   "metadata": {
    "colab": {
     "base_uri": "https://localhost:8080/",
     "height": 52
    },
    "colab_type": "code",
    "id": "4agC-7RLrQSp",
    "outputId": "c98a0475-d2f7-4e53-e3b3-e45b2c1874ff"
   },
   "outputs": [
    {
     "name": "stdout",
     "output_type": "stream",
     "text": [
      "Here's my initial list ['None', 2, 4, 6, 'None']\n",
      "Here is my list after imputer : [4.0, 2, 4, 6, 4.0]\n",
      "Here is a list :  ['None', 2, 3, 12, 5, 6, 'None']\n",
      "Here is the list with the empty values replaced by the average value : [5.6, 2, 4, 6, 5.6]\n"
     ]
    }
   ],
   "source": []
  },
  {
   "cell_type": "code",
   "execution_count": 4,
   "metadata": {
    "colab": {
     "base_uri": "https://localhost:8080/",
     "height": 52
    },
    "colab_type": "code",
    "id": "4agC-7RLrQSp",
    "outputId": "c98a0475-d2f7-4e53-e3b3-e45b2c1874ff"
   },
   "outputs": [
    {
     "name": "stdout",
     "output_type": "stream",
     "text": [
      "Here's my initial list ['None', 2, 4, 6, 'None']\n",
      "Here is my list after imputer : [4.0, 2, 4, 6, 4.0]\n",
      "Here is a list :  ['None', 2, 3, 12, 5, 6, 'None']\n",
      "Here is the list with the empty values replaced by the average value : [5.6, 2, 4, 6, 5.6]\n"
     ]
    }
   ],
   "source": []
  },
  {
   "cell_type": "code",
   "execution_count": 4,
   "metadata": {
    "colab": {
     "base_uri": "https://localhost:8080/",
     "height": 52
    },
    "colab_type": "code",
    "id": "4agC-7RLrQSp",
    "outputId": "c98a0475-d2f7-4e53-e3b3-e45b2c1874ff"
   },
   "outputs": [
    {
     "name": "stdout",
     "output_type": "stream",
     "text": [
      "Here's my initial list ['None', 2, 4, 6, 'None']\n",
      "Here is my list after imputer : [4.0, 2, 4, 6, 4.0]\n",
      "Here is a list :  ['None', 2, 3, 12, 5, 6, 'None']\n",
      "Here is the list with the empty values replaced by the average value : [5.6, 2, 4, 6, 5.6]\n"
     ]
    }
   ],
   "source": []
  }
 ],
 "metadata": {
  "kernelspec": {
   "display_name": "Python 3",
   "language": "python",
   "name": "python3"
  },
  "language_info": {
   "codemirror_mode": {
    "name": "ipython",
    "version": 3
   },
   "file_extension": ".py",
   "mimetype": "text/x-python",
   "name": "python",
   "nbconvert_exporter": "python",
   "pygments_lexer": "ipython3",
   "version": "3.8.6"
  }
 },
 "nbformat": 4,
 "nbformat_minor": 4
}
